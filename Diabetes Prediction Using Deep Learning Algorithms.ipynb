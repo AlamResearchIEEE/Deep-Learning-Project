{
 "cells": [
  {
   "cell_type": "markdown",
   "id": "96a22b30",
   "metadata": {},
   "source": [
    "# Install Required Libraries"
   ]
  },
  {
   "cell_type": "code",
   "execution_count": 1,
   "id": "f984fa2b",
   "metadata": {},
   "outputs": [
    {
     "name": "stdout",
     "output_type": "stream",
     "text": [
      "Requirement already satisfied: tensorflow in g:\\anaconda\\lib\\site-packages (2.9.1)\n",
      "Requirement already satisfied: scikit-learn in g:\\anaconda\\lib\\site-packages (1.0.2)\n",
      "Requirement already satisfied: matplotlib in g:\\anaconda\\lib\\site-packages (3.5.1)\n",
      "Requirement already satisfied: libclang>=13.0.0 in g:\\anaconda\\lib\\site-packages (from tensorflow) (14.0.1)\n",
      "Requirement already satisfied: flatbuffers<2,>=1.12 in g:\\anaconda\\lib\\site-packages (from tensorflow) (1.12)\n",
      "Requirement already satisfied: astunparse>=1.6.0 in g:\\anaconda\\lib\\site-packages (from tensorflow) (1.6.3)\n",
      "Requirement already satisfied: setuptools in g:\\anaconda\\lib\\site-packages (from tensorflow) (61.2.0)\n",
      "Requirement already satisfied: google-pasta>=0.1.1 in g:\\anaconda\\lib\\site-packages (from tensorflow) (0.2.0)\n",
      "Requirement already satisfied: grpcio<2.0,>=1.24.3 in g:\\anaconda\\lib\\site-packages (from tensorflow) (1.42.0)\n",
      "Requirement already satisfied: h5py>=2.9.0 in g:\\anaconda\\lib\\site-packages (from tensorflow) (3.6.0)\n",
      "Requirement already satisfied: six>=1.12.0 in g:\\anaconda\\lib\\site-packages (from tensorflow) (1.16.0)\n",
      "Requirement already satisfied: tensorflow-io-gcs-filesystem>=0.23.1 in g:\\anaconda\\lib\\site-packages (from tensorflow) (0.26.0)\n",
      "Requirement already satisfied: tensorflow-estimator<2.10.0,>=2.9.0rc0 in g:\\anaconda\\lib\\site-packages (from tensorflow) (2.9.0)\n",
      "Requirement already satisfied: termcolor>=1.1.0 in g:\\anaconda\\lib\\site-packages (from tensorflow) (1.1.0)\n",
      "Requirement already satisfied: protobuf<3.20,>=3.9.2 in g:\\anaconda\\lib\\site-packages (from tensorflow) (3.19.1)\n",
      "Requirement already satisfied: gast<=0.4.0,>=0.2.1 in g:\\anaconda\\lib\\site-packages (from tensorflow) (0.4.0)\n",
      "Requirement already satisfied: wrapt>=1.11.0 in g:\\anaconda\\lib\\site-packages (from tensorflow) (1.12.1)\n",
      "Requirement already satisfied: numpy>=1.20 in g:\\anaconda\\lib\\site-packages (from tensorflow) (1.21.5)\n",
      "Requirement already satisfied: packaging in g:\\anaconda\\lib\\site-packages (from tensorflow) (21.3)\n",
      "Requirement already satisfied: keras<2.10.0,>=2.9.0rc0 in g:\\anaconda\\lib\\site-packages (from tensorflow) (2.9.0)\n",
      "Requirement already satisfied: keras-preprocessing>=1.1.1 in g:\\anaconda\\lib\\site-packages (from tensorflow) (1.1.2)\n",
      "Requirement already satisfied: opt-einsum>=2.3.2 in g:\\anaconda\\lib\\site-packages (from tensorflow) (3.3.0)\n",
      "Requirement already satisfied: absl-py>=1.0.0 in g:\\anaconda\\lib\\site-packages (from tensorflow) (1.1.0)\n",
      "Requirement already satisfied: typing-extensions>=3.6.6 in g:\\anaconda\\lib\\site-packages (from tensorflow) (4.1.1)\n",
      "Requirement already satisfied: tensorboard<2.10,>=2.9 in g:\\anaconda\\lib\\site-packages (from tensorflow) (2.9.1)\n",
      "Requirement already satisfied: scipy>=1.1.0 in g:\\anaconda\\lib\\site-packages (from scikit-learn) (1.7.3)\n",
      "Requirement already satisfied: joblib>=0.11 in g:\\anaconda\\lib\\site-packages (from scikit-learn) (1.4.2)\n",
      "Requirement already satisfied: threadpoolctl>=2.0.0 in g:\\anaconda\\lib\\site-packages (from scikit-learn) (2.2.0)\n",
      "Requirement already satisfied: pyparsing>=2.2.1 in g:\\anaconda\\lib\\site-packages (from matplotlib) (3.0.4)\n",
      "Requirement already satisfied: pillow>=6.2.0 in g:\\anaconda\\lib\\site-packages (from matplotlib) (9.0.1)\n",
      "Requirement already satisfied: cycler>=0.10 in g:\\anaconda\\lib\\site-packages (from matplotlib) (0.11.0)\n",
      "Requirement already satisfied: fonttools>=4.22.0 in g:\\anaconda\\lib\\site-packages (from matplotlib) (4.25.0)\n",
      "Requirement already satisfied: python-dateutil>=2.7 in g:\\anaconda\\lib\\site-packages (from matplotlib) (2.8.2)\n",
      "Requirement already satisfied: kiwisolver>=1.0.1 in g:\\anaconda\\lib\\site-packages (from matplotlib) (1.3.2)\n",
      "Requirement already satisfied: wheel<1.0,>=0.23.0 in g:\\anaconda\\lib\\site-packages (from astunparse>=1.6.0->tensorflow) (0.37.1)\n",
      "Requirement already satisfied: werkzeug>=1.0.1 in g:\\anaconda\\lib\\site-packages (from tensorboard<2.10,>=2.9->tensorflow) (2.0.3)\n",
      "Requirement already satisfied: markdown>=2.6.8 in g:\\anaconda\\lib\\site-packages (from tensorboard<2.10,>=2.9->tensorflow) (3.3.4)\n",
      "Requirement already satisfied: tensorboard-plugin-wit>=1.6.0 in g:\\anaconda\\lib\\site-packages (from tensorboard<2.10,>=2.9->tensorflow) (1.8.1)\n",
      "Requirement already satisfied: tensorboard-data-server<0.7.0,>=0.6.0 in g:\\anaconda\\lib\\site-packages (from tensorboard<2.10,>=2.9->tensorflow) (0.6.1)\n",
      "Requirement already satisfied: google-auth<3,>=1.6.3 in g:\\anaconda\\lib\\site-packages (from tensorboard<2.10,>=2.9->tensorflow) (1.33.0)\n",
      "Requirement already satisfied: google-auth-oauthlib<0.5,>=0.4.1 in g:\\anaconda\\lib\\site-packages (from tensorboard<2.10,>=2.9->tensorflow) (0.4.6)\n",
      "Requirement already satisfied: requests<3,>=2.21.0 in g:\\anaconda\\lib\\site-packages (from tensorboard<2.10,>=2.9->tensorflow) (2.27.1)\n",
      "Requirement already satisfied: cachetools<5.0,>=2.0.0 in g:\\anaconda\\lib\\site-packages (from google-auth<3,>=1.6.3->tensorboard<2.10,>=2.9->tensorflow) (4.2.2)\n",
      "Requirement already satisfied: rsa<5,>=3.1.4 in g:\\anaconda\\lib\\site-packages (from google-auth<3,>=1.6.3->tensorboard<2.10,>=2.9->tensorflow) (4.7.2)\n",
      "Requirement already satisfied: pyasn1-modules>=0.2.1 in g:\\anaconda\\lib\\site-packages (from google-auth<3,>=1.6.3->tensorboard<2.10,>=2.9->tensorflow) (0.2.8)\n",
      "Requirement already satisfied: requests-oauthlib>=0.7.0 in g:\\anaconda\\lib\\site-packages (from google-auth-oauthlib<0.5,>=0.4.1->tensorboard<2.10,>=2.9->tensorflow) (1.3.1)\n",
      "Requirement already satisfied: pyasn1<0.5.0,>=0.4.6 in g:\\anaconda\\lib\\site-packages (from pyasn1-modules>=0.2.1->google-auth<3,>=1.6.3->tensorboard<2.10,>=2.9->tensorflow) (0.4.8)\n",
      "Requirement already satisfied: urllib3<1.27,>=1.21.1 in g:\\anaconda\\lib\\site-packages (from requests<3,>=2.21.0->tensorboard<2.10,>=2.9->tensorflow) (1.26.9)\n",
      "Requirement already satisfied: charset-normalizer~=2.0.0 in g:\\anaconda\\lib\\site-packages (from requests<3,>=2.21.0->tensorboard<2.10,>=2.9->tensorflow) (2.0.4)\n",
      "Requirement already satisfied: idna<4,>=2.5 in g:\\anaconda\\lib\\site-packages (from requests<3,>=2.21.0->tensorboard<2.10,>=2.9->tensorflow) (3.3)\n",
      "Requirement already satisfied: certifi>=2017.4.17 in g:\\anaconda\\lib\\site-packages (from requests<3,>=2.21.0->tensorboard<2.10,>=2.9->tensorflow) (2021.10.8)\n",
      "Requirement already satisfied: oauthlib>=3.0.0 in g:\\anaconda\\lib\\site-packages (from requests-oauthlib>=0.7.0->google-auth-oauthlib<0.5,>=0.4.1->tensorboard<2.10,>=2.9->tensorflow) (3.2.0)\n",
      "Note: you may need to restart the kernel to use updated packages.\n"
     ]
    }
   ],
   "source": [
    "pip install tensorflow scikit-learn matplotlib"
   ]
  },
  {
   "cell_type": "markdown",
   "id": "5a6a4a23",
   "metadata": {},
   "source": [
    "# Data Preprocessing"
   ]
  },
  {
   "cell_type": "code",
   "execution_count": 4,
   "id": "62a0be31",
   "metadata": {},
   "outputs": [
    {
     "name": "stdout",
     "output_type": "stream",
     "text": [
      "X_train shape: (372, 1, 9)\n",
      "X_test shape: (93, 1, 9)\n",
      "y_train shape: (372,)\n",
      "y_test shape: (93,)\n"
     ]
    }
   ],
   "source": [
    "import pandas as pd\n",
    "from sklearn.preprocessing import StandardScaler, LabelEncoder\n",
    "from sklearn.model_selection import train_test_split\n",
    "import numpy as np\n",
    "\n",
    "# Load the dataset\n",
    "data_file_path = 'Documents/Type2_Diabetes_Dataset.csv'\n",
    "data_new = pd.read_csv(data_file_path)\n",
    "\n",
    "# Encode categorical variables (gender and diabetic columns)\n",
    "#label_encoder = LabelEncoder()\n",
    "#data_new['gender'] = label_encoder.fit_transform(data_new['gender'])\n",
    "#data_new['diabetic'] = label_encoder.fit_transform(data_new['diabetic'])\n",
    "\n",
    "# Features and target variable\n",
    "X = data_new.drop(columns=['Outcome'])\n",
    "y = data_new['Outcome']\n",
    "\n",
    "# Scale the features\n",
    "scaler = StandardScaler()\n",
    "X_scaled = scaler.fit_transform(X)\n",
    "\n",
    "# Reshape the data for RNN (samples, time steps, features)\n",
    "X_scaled = np.expand_dims(X_scaled, axis=1)\n",
    "\n",
    "# Train-test split\n",
    "X_train, X_test, y_train, y_test = train_test_split(X_scaled, y, test_size=0.2, random_state=42)\n",
    "\n",
    "# Display the shapes of the datasets\n",
    "print(f\"X_train shape: {X_train.shape}\")\n",
    "print(f\"X_test shape: {X_test.shape}\")\n",
    "print(f\"y_train shape: {y_train.shape}\")\n",
    "print(f\"y_test shape: {y_test.shape}\")"
   ]
  },
  {
   "cell_type": "markdown",
   "id": "9c473900",
   "metadata": {},
   "source": [
    "# Build the RNN Model (LSTM with Dropout)"
   ]
  },
  {
   "cell_type": "code",
   "execution_count": 5,
   "id": "84c07c3d",
   "metadata": {},
   "outputs": [
    {
     "name": "stderr",
     "output_type": "stream",
     "text": [
      "C:\\Users\\Asus\\AppData\\Local\\Temp\\ipykernel_1852\\2348622470.py:18: DeprecationWarning: KerasClassifier is deprecated, use Sci-Keras (https://github.com/adriangb/scikeras) instead. See https://www.adriangb.com/scikeras/stable/migration.html for help migrating.\n",
      "  model = KerasClassifier(build_fn=create_model, verbose=0)\n"
     ]
    },
    {
     "name": "stdout",
     "output_type": "stream",
     "text": [
      "Model: \"sequential\"\n",
      "_________________________________________________________________\n",
      " Layer (type)                Output Shape              Param #   \n",
      "=================================================================\n",
      " lstm (LSTM)                 (None, 1, 64)             18944     \n",
      "                                                                 \n",
      " dropout (Dropout)           (None, 1, 64)             0         \n",
      "                                                                 \n",
      " lstm_1 (LSTM)               (None, 32)                12416     \n",
      "                                                                 \n",
      " dropout_1 (Dropout)         (None, 32)                0         \n",
      "                                                                 \n",
      " dense (Dense)               (None, 1)                 33        \n",
      "                                                                 \n",
      "=================================================================\n",
      "Total params: 31,393\n",
      "Trainable params: 31,393\n",
      "Non-trainable params: 0\n",
      "_________________________________________________________________\n"
     ]
    }
   ],
   "source": [
    "from tensorflow.keras.models import Sequential\n",
    "from tensorflow.keras.layers import LSTM, Dropout, Dense\n",
    "from tensorflow.keras.optimizers import Adam\n",
    "from tensorflow.keras.wrappers.scikit_learn import KerasClassifier\n",
    "\n",
    "# Function to create the RNN model with LSTM and Dropout\n",
    "def create_model(lstm_units=64, dropout_rate=0.2):\n",
    "    model = Sequential()\n",
    "    model.add(LSTM(lstm_units, input_shape=(X_train.shape[1], X_train.shape[2]), activation='relu', return_sequences=True))\n",
    "    model.add(Dropout(dropout_rate))  # Add dropout for regularization\n",
    "    model.add(LSTM(lstm_units//2, activation='relu'))\n",
    "    model.add(Dropout(dropout_rate))  # Add dropout for regularization\n",
    "    model.add(Dense(1, activation='sigmoid'))  # Output layer for binary classification\n",
    "    model.compile(optimizer=Adam(), loss='binary_crossentropy', metrics=['accuracy'])\n",
    "    return model\n",
    "\n",
    "# Wrap the Keras model for use with scikit-learn\n",
    "model = KerasClassifier(build_fn=create_model, verbose=0)\n",
    "\n",
    "# Check the summary of the model (for debugging)\n",
    "model_instance = create_model(lstm_units=64, dropout_rate=0.2)\n",
    "model_instance.summary()"
   ]
  },
  {
   "cell_type": "markdown",
   "id": "4ad77067",
   "metadata": {},
   "source": [
    "# Hyperparameter Tuning with GridSearchCV"
   ]
  },
  {
   "cell_type": "code",
   "execution_count": 6,
   "id": "eb7606de",
   "metadata": {},
   "outputs": [
    {
     "name": "stdout",
     "output_type": "stream",
     "text": [
      "Fitting 3 folds for each of 36 candidates, totalling 108 fits\n",
      "[CV] END batch_size=16, dropout_rate=0.2, epochs=10, lstm_units=64; total time=   6.6s\n",
      "[CV] END batch_size=16, dropout_rate=0.2, epochs=10, lstm_units=64; total time=   4.4s\n",
      "[CV] END batch_size=16, dropout_rate=0.2, epochs=10, lstm_units=64; total time=   5.7s\n",
      "[CV] END batch_size=16, dropout_rate=0.2, epochs=10, lstm_units=128; total time=   5.5s\n",
      "[CV] END batch_size=16, dropout_rate=0.2, epochs=10, lstm_units=128; total time=   6.5s\n",
      "[CV] END batch_size=16, dropout_rate=0.2, epochs=10, lstm_units=128; total time=   5.4s\n",
      "[CV] END batch_size=16, dropout_rate=0.2, epochs=10, lstm_units=256; total time=   6.5s\n",
      "[CV] END batch_size=16, dropout_rate=0.2, epochs=10, lstm_units=256; total time=   8.3s\n",
      "[CV] END batch_size=16, dropout_rate=0.2, epochs=10, lstm_units=256; total time=  10.9s\n",
      "[CV] END batch_size=16, dropout_rate=0.2, epochs=50, lstm_units=64; total time=   8.5s\n",
      "[CV] END batch_size=16, dropout_rate=0.2, epochs=50, lstm_units=64; total time=   8.7s\n",
      "[CV] END batch_size=16, dropout_rate=0.2, epochs=50, lstm_units=64; total time=   7.3s\n",
      "[CV] END batch_size=16, dropout_rate=0.2, epochs=50, lstm_units=128; total time=  10.4s\n",
      "[CV] END batch_size=16, dropout_rate=0.2, epochs=50, lstm_units=128; total time=   8.5s\n",
      "[CV] END batch_size=16, dropout_rate=0.2, epochs=50, lstm_units=128; total time=   7.4s\n",
      "[CV] END batch_size=16, dropout_rate=0.2, epochs=50, lstm_units=256; total time=  10.5s\n",
      "[CV] END batch_size=16, dropout_rate=0.2, epochs=50, lstm_units=256; total time=  10.7s\n",
      "[CV] END batch_size=16, dropout_rate=0.2, epochs=50, lstm_units=256; total time=  10.7s\n",
      "[CV] END batch_size=16, dropout_rate=0.3, epochs=10, lstm_units=64; total time=   9.9s\n",
      "[CV] END batch_size=16, dropout_rate=0.3, epochs=10, lstm_units=64; total time=   6.5s\n",
      "[CV] END batch_size=16, dropout_rate=0.3, epochs=10, lstm_units=64; total time=   6.5s\n",
      "[CV] END batch_size=16, dropout_rate=0.3, epochs=10, lstm_units=128; total time=   7.3s\n",
      "[CV] END batch_size=16, dropout_rate=0.3, epochs=10, lstm_units=128; total time=   7.7s\n",
      "[CV] END batch_size=16, dropout_rate=0.3, epochs=10, lstm_units=128; total time=   5.0s\n",
      "[CV] END batch_size=16, dropout_rate=0.3, epochs=10, lstm_units=256; total time=   6.0s\n",
      "[CV] END batch_size=16, dropout_rate=0.3, epochs=10, lstm_units=256; total time=   8.5s\n",
      "[CV] END batch_size=16, dropout_rate=0.3, epochs=10, lstm_units=256; total time=   8.6s\n",
      "[CV] END batch_size=16, dropout_rate=0.3, epochs=50, lstm_units=64; total time=   8.4s\n",
      "[CV] END batch_size=16, dropout_rate=0.3, epochs=50, lstm_units=64; total time=   7.6s\n",
      "[CV] END batch_size=16, dropout_rate=0.3, epochs=50, lstm_units=64; total time=   8.0s\n",
      "[CV] END batch_size=16, dropout_rate=0.3, epochs=50, lstm_units=128; total time=  10.4s\n",
      "[CV] END batch_size=16, dropout_rate=0.3, epochs=50, lstm_units=128; total time=   9.0s\n",
      "[CV] END batch_size=16, dropout_rate=0.3, epochs=50, lstm_units=128; total time=  10.1s\n",
      "[CV] END batch_size=16, dropout_rate=0.3, epochs=50, lstm_units=256; total time=   9.5s\n",
      "[CV] END batch_size=16, dropout_rate=0.3, epochs=50, lstm_units=256; total time=  11.2s\n",
      "[CV] END batch_size=16, dropout_rate=0.3, epochs=50, lstm_units=256; total time=  10.2s\n",
      "[CV] END batch_size=32, dropout_rate=0.2, epochs=10, lstm_units=64; total time=   4.9s\n",
      "[CV] END batch_size=32, dropout_rate=0.2, epochs=10, lstm_units=64; total time=   4.2s\n",
      "[CV] END batch_size=32, dropout_rate=0.2, epochs=10, lstm_units=64; total time=   5.4s\n",
      "[CV] END batch_size=32, dropout_rate=0.2, epochs=10, lstm_units=128; total time=   4.3s\n",
      "[CV] END batch_size=32, dropout_rate=0.2, epochs=10, lstm_units=128; total time=   4.6s\n",
      "[CV] END batch_size=32, dropout_rate=0.2, epochs=10, lstm_units=128; total time=   4.5s\n",
      "[CV] END batch_size=32, dropout_rate=0.2, epochs=10, lstm_units=256; total time=   6.2s\n",
      "[CV] END batch_size=32, dropout_rate=0.2, epochs=10, lstm_units=256; total time=   4.6s\n",
      "[CV] END batch_size=32, dropout_rate=0.2, epochs=10, lstm_units=256; total time=   5.3s\n",
      "[CV] END batch_size=32, dropout_rate=0.2, epochs=50, lstm_units=64; total time=   5.8s\n",
      "[CV] END batch_size=32, dropout_rate=0.2, epochs=50, lstm_units=64; total time=   6.3s\n",
      "[CV] END batch_size=32, dropout_rate=0.2, epochs=50, lstm_units=64; total time=   6.4s\n",
      "[CV] END batch_size=32, dropout_rate=0.2, epochs=50, lstm_units=128; total time=  10.9s\n",
      "[CV] END batch_size=32, dropout_rate=0.2, epochs=50, lstm_units=128; total time=   7.5s\n",
      "[CV] END batch_size=32, dropout_rate=0.2, epochs=50, lstm_units=128; total time=   6.3s\n",
      "[CV] END batch_size=32, dropout_rate=0.2, epochs=50, lstm_units=256; total time=   9.5s\n",
      "[CV] END batch_size=32, dropout_rate=0.2, epochs=50, lstm_units=256; total time=  10.3s\n",
      "[CV] END batch_size=32, dropout_rate=0.2, epochs=50, lstm_units=256; total time=   9.8s\n",
      "[CV] END batch_size=32, dropout_rate=0.3, epochs=10, lstm_units=64; total time=   8.7s\n",
      "[CV] END batch_size=32, dropout_rate=0.3, epochs=10, lstm_units=64; total time=   5.6s\n",
      "[CV] END batch_size=32, dropout_rate=0.3, epochs=10, lstm_units=64; total time=   4.8s\n",
      "[CV] END batch_size=32, dropout_rate=0.3, epochs=10, lstm_units=128; total time=   5.6s\n",
      "[CV] END batch_size=32, dropout_rate=0.3, epochs=10, lstm_units=128; total time=   5.2s\n",
      "[CV] END batch_size=32, dropout_rate=0.3, epochs=10, lstm_units=128; total time=   7.3s\n",
      "[CV] END batch_size=32, dropout_rate=0.3, epochs=10, lstm_units=256; total time=  10.4s\n",
      "[CV] END batch_size=32, dropout_rate=0.3, epochs=10, lstm_units=256; total time=   7.2s\n",
      "[CV] END batch_size=32, dropout_rate=0.3, epochs=10, lstm_units=256; total time=   7.7s\n",
      "[CV] END batch_size=32, dropout_rate=0.3, epochs=50, lstm_units=64; total time=   6.7s\n",
      "[CV] END batch_size=32, dropout_rate=0.3, epochs=50, lstm_units=64; total time=   7.6s\n",
      "[CV] END batch_size=32, dropout_rate=0.3, epochs=50, lstm_units=64; total time=   8.6s\n",
      "[CV] END batch_size=32, dropout_rate=0.3, epochs=50, lstm_units=128; total time=   7.7s\n",
      "[CV] END batch_size=32, dropout_rate=0.3, epochs=50, lstm_units=128; total time=  12.7s\n",
      "[CV] END batch_size=32, dropout_rate=0.3, epochs=50, lstm_units=128; total time=   7.3s\n",
      "[CV] END batch_size=32, dropout_rate=0.3, epochs=50, lstm_units=256; total time=  10.8s\n",
      "[CV] END batch_size=32, dropout_rate=0.3, epochs=50, lstm_units=256; total time=  10.0s\n",
      "[CV] END batch_size=32, dropout_rate=0.3, epochs=50, lstm_units=256; total time=   9.1s\n",
      "[CV] END batch_size=64, dropout_rate=0.2, epochs=10, lstm_units=64; total time=   8.2s\n",
      "[CV] END batch_size=64, dropout_rate=0.2, epochs=10, lstm_units=64; total time=   6.6s\n",
      "WARNING:tensorflow:5 out of the last 13 calls to <function Model.make_test_function.<locals>.test_function at 0x000001F452F5F3A0> triggered tf.function retracing. Tracing is expensive and the excessive number of tracings could be due to (1) creating @tf.function repeatedly in a loop, (2) passing tensors with different shapes, (3) passing Python objects instead of tensors. For (1), please define your @tf.function outside of the loop. For (2), @tf.function has reduce_retracing=True option that can avoid unnecessary retracing. For (3), please refer to https://www.tensorflow.org/guide/function#controlling_retracing and https://www.tensorflow.org/api_docs/python/tf/function for  more details.\n",
      "[CV] END batch_size=64, dropout_rate=0.2, epochs=10, lstm_units=64; total time=   4.7s\n",
      "WARNING:tensorflow:5 out of the last 11 calls to <function Model.make_test_function.<locals>.test_function at 0x000001F451D918B0> triggered tf.function retracing. Tracing is expensive and the excessive number of tracings could be due to (1) creating @tf.function repeatedly in a loop, (2) passing tensors with different shapes, (3) passing Python objects instead of tensors. For (1), please define your @tf.function outside of the loop. For (2), @tf.function has reduce_retracing=True option that can avoid unnecessary retracing. For (3), please refer to https://www.tensorflow.org/guide/function#controlling_retracing and https://www.tensorflow.org/api_docs/python/tf/function for  more details.\n",
      "[CV] END batch_size=64, dropout_rate=0.2, epochs=10, lstm_units=128; total time=   5.4s\n",
      "[CV] END batch_size=64, dropout_rate=0.2, epochs=10, lstm_units=128; total time=   4.3s\n",
      "[CV] END batch_size=64, dropout_rate=0.2, epochs=10, lstm_units=128; total time=   4.1s\n",
      "[CV] END batch_size=64, dropout_rate=0.2, epochs=10, lstm_units=256; total time=   5.5s\n",
      "[CV] END batch_size=64, dropout_rate=0.2, epochs=10, lstm_units=256; total time=   5.8s\n",
      "[CV] END batch_size=64, dropout_rate=0.2, epochs=10, lstm_units=256; total time=   4.4s\n",
      "[CV] END batch_size=64, dropout_rate=0.2, epochs=50, lstm_units=64; total time=   6.2s\n",
      "[CV] END batch_size=64, dropout_rate=0.2, epochs=50, lstm_units=64; total time=   5.3s\n",
      "[CV] END batch_size=64, dropout_rate=0.2, epochs=50, lstm_units=64; total time=   4.9s\n",
      "[CV] END batch_size=64, dropout_rate=0.2, epochs=50, lstm_units=128; total time=   6.5s\n",
      "[CV] END batch_size=64, dropout_rate=0.2, epochs=50, lstm_units=128; total time=   5.7s\n",
      "[CV] END batch_size=64, dropout_rate=0.2, epochs=50, lstm_units=128; total time=   5.5s\n",
      "[CV] END batch_size=64, dropout_rate=0.2, epochs=50, lstm_units=256; total time=   7.0s\n",
      "[CV] END batch_size=64, dropout_rate=0.2, epochs=50, lstm_units=256; total time=   6.3s\n",
      "[CV] END batch_size=64, dropout_rate=0.2, epochs=50, lstm_units=256; total time=   7.7s\n",
      "[CV] END batch_size=64, dropout_rate=0.3, epochs=10, lstm_units=64; total time=   4.0s\n",
      "[CV] END batch_size=64, dropout_rate=0.3, epochs=10, lstm_units=64; total time=   4.6s\n",
      "[CV] END batch_size=64, dropout_rate=0.3, epochs=10, lstm_units=64; total time=   4.7s\n",
      "[CV] END batch_size=64, dropout_rate=0.3, epochs=10, lstm_units=128; total time=   4.6s\n",
      "[CV] END batch_size=64, dropout_rate=0.3, epochs=10, lstm_units=128; total time=   5.2s\n",
      "[CV] END batch_size=64, dropout_rate=0.3, epochs=10, lstm_units=128; total time=   5.8s\n",
      "[CV] END batch_size=64, dropout_rate=0.3, epochs=10, lstm_units=256; total time=   4.6s\n",
      "[CV] END batch_size=64, dropout_rate=0.3, epochs=10, lstm_units=256; total time=   4.4s\n",
      "[CV] END batch_size=64, dropout_rate=0.3, epochs=10, lstm_units=256; total time=   4.9s\n",
      "[CV] END batch_size=64, dropout_rate=0.3, epochs=50, lstm_units=64; total time=   5.1s\n",
      "[CV] END batch_size=64, dropout_rate=0.3, epochs=50, lstm_units=64; total time=   4.4s\n",
      "[CV] END batch_size=64, dropout_rate=0.3, epochs=50, lstm_units=64; total time=   5.1s\n",
      "[CV] END batch_size=64, dropout_rate=0.3, epochs=50, lstm_units=128; total time=   6.2s\n",
      "[CV] END batch_size=64, dropout_rate=0.3, epochs=50, lstm_units=128; total time=   4.9s\n",
      "[CV] END batch_size=64, dropout_rate=0.3, epochs=50, lstm_units=128; total time=   5.4s\n",
      "[CV] END batch_size=64, dropout_rate=0.3, epochs=50, lstm_units=256; total time=   6.6s\n",
      "[CV] END batch_size=64, dropout_rate=0.3, epochs=50, lstm_units=256; total time=   5.9s\n",
      "[CV] END batch_size=64, dropout_rate=0.3, epochs=50, lstm_units=256; total time=   6.8s\n",
      "Best: 0.9301075339317322 using {'batch_size': 32, 'dropout_rate': 0.2, 'epochs': 50, 'lstm_units': 256}\n"
     ]
    }
   ],
   "source": [
    "from sklearn.model_selection import GridSearchCV\n",
    "\n",
    "# Define the hyperparameters to tune\n",
    "param_grid = {\n",
    "    'batch_size': [16, 32, 64],\n",
    "    'epochs': [10, 50],\n",
    "    'lstm_units': [64, 128, 256],\n",
    "    'dropout_rate': [0.2, 0.3]\n",
    "}\n",
    "\n",
    "# Use GridSearchCV for hyperparameter tuning\n",
    "grid = GridSearchCV(estimator=model, param_grid=param_grid, cv=3, verbose=2)\n",
    "grid_result = grid.fit(X_train, y_train)\n",
    "\n",
    "# Print the best parameters and results\n",
    "print(f\"Best: {grid_result.best_score_} using {grid_result.best_params_}\")"
   ]
  },
  {
   "cell_type": "markdown",
   "id": "49b09b68",
   "metadata": {},
   "source": [
    "# Evaluate the Model"
   ]
  },
  {
   "cell_type": "code",
   "execution_count": 7,
   "id": "e1c07501",
   "metadata": {},
   "outputs": [
    {
     "name": "stdout",
     "output_type": "stream",
     "text": [
      "3/3 [==============================] - 1s 8ms/step\n",
      "ROC AUC Score: 0.945436507936508\n",
      "Confusion Matrix:\n",
      "[[19  2]\n",
      " [ 1 71]]\n",
      "Precision: 0.9726027397260274\n",
      "Recall: 0.9861111111111112\n",
      "F1 Score: 0.9793103448275863\n"
     ]
    },
    {
     "data": {
      "image/png": "[encoded data removed]",
      "text/plain": [
       "<Figure size 432x288 with 1 Axes>"
      ]
     },
     "metadata": {
      "needs_background": "light"
     },
     "output_type": "display_data"
    }
   ],
   "source": [
    "from sklearn.metrics import roc_auc_score, confusion_matrix, precision_score, recall_score, f1_score\n",
    "import matplotlib.pyplot as plt\n",
    "from sklearn.metrics import roc_curve\n",
    "\n",
    "# Predict on the test set\n",
    "y_pred = grid.best_estimator_.predict(X_test)\n",
    "y_pred = (y_pred > 0.5).astype(int)\n",
    "\n",
    "# Calculate metrics\n",
    "\n",
    "roc_auc = roc_auc_score(y_test, y_pred)\n",
    "cm = confusion_matrix(y_test, y_pred)\n",
    "precision = precision_score(y_test, y_pred)\n",
    "recall = recall_score(y_test, y_pred)\n",
    "f1 = f1_score(y_test, y_pred)\n",
    "\n",
    "# Print metrics\n",
    "print(f\"ROC AUC Score: {roc_auc}\")\n",
    "print(f\"Confusion Matrix:\\n{cm}\")\n",
    "print(f\"Precision: {precision}\")\n",
    "print(f\"Recall: {recall}\")\n",
    "print(f\"F1 Score: {f1}\")\n",
    "\n",
    "# Plot ROC curve\n",
    "fpr, tpr, thresholds = roc_curve(y_test, y_pred)\n",
    "plt.figure()\n",
    "plt.plot(fpr, tpr, color='darkorange', lw=2, label='ROC curve (area = %0.2f)' % roc_auc)\n",
    "plt.plot([0, 1], [0, 1], color='navy', lw=2, linestyle='--')\n",
    "plt.xlim([0.0, 1.0])\n",
    "plt.ylim([0.0, 1.05])\n",
    "plt.xlabel('False Positive Rate')\n",
    "plt.ylabel('True Positive Rate')\n",
    "plt.title('Receiver Operating Characteristic (ROC)')\n",
    "plt.legend(loc=\"lower right\")\n",
    "plt.show()"
   ]
  },
  {
   "cell_type": "markdown",
   "id": "1182952a",
   "metadata": {},
   "source": [
    "# Cross-Validation with Stratified K-Fold"
   ]
  },
  {
   "cell_type": "code",
   "execution_count": 8,
   "id": "2a6fe58b",
   "metadata": {},
   "outputs": [
    {
     "name": "stdout",
     "output_type": "stream",
     "text": [
      "Cross-validated Accuracy: 0.9655913949012757\n"
     ]
    }
   ],
   "source": [
    "from sklearn.model_selection import StratifiedKFold\n",
    "from sklearn.model_selection import cross_val_score\n",
    "\n",
    "# Use Stratified K-Fold Cross-Validation for better performance evaluation\n",
    "kfold = StratifiedKFold(n_splits=5, shuffle=True, random_state=42)\n",
    "\n",
    "# Evaluate using cross-validation\n",
    "results = cross_val_score(grid.best_estimator_, X_scaled, y, cv=kfold)\n",
    "print(f\"Cross-validated Accuracy: {results.mean()}\")"
   ]
  },
  {
   "cell_type": "markdown",
   "id": "707adbd6",
   "metadata": {},
   "source": [
    "# Optional - Early Stopping and Learning Rate Scheduler"
   ]
  },
  {
   "cell_type": "code",
   "execution_count": 9,
   "id": "5ef5fd12",
   "metadata": {},
   "outputs": [
    {
     "name": "stdout",
     "output_type": "stream",
     "text": [
      "\n",
      "Epoch 22: ReduceLROnPlateau reducing learning rate to 0.00010000000474974513.\n"
     ]
    }
   ],
   "source": [
    "from tensorflow.keras.callbacks import EarlyStopping, ReduceLROnPlateau\n",
    "\n",
    "# EarlyStopping to prevent overfitting\n",
    "early_stopping = EarlyStopping(monitor='val_loss', patience=5, restore_best_weights=True)\n",
    "\n",
    "# Learning rate scheduler\n",
    "lr_scheduler = ReduceLROnPlateau(monitor='val_loss', factor=0.1, patience=3, verbose=1)\n",
    "\n",
    "# Re-train the model with callbacks (optional)\n",
    "history = grid.best_estimator_.fit(X_train, y_train, epochs=50, batch_size=32, validation_split=0.2, \n",
    "                                   callbacks=[early_stopping, lr_scheduler])"
   ]
  },
  {
   "cell_type": "code",
   "execution_count": null,
   "id": "3532c1d4",
   "metadata": {},
   "outputs": [],
   "source": []
  },
  {
   "cell_type": "code",
   "execution_count": null,
   "id": "6deb98c1",
   "metadata": {},
   "outputs": [],
   "source": []
  }
 ],
 "metadata": {
  "kernelspec": {
   "display_name": "Python 3 (ipykernel)",
   "language": "python",
   "name": "python3"
  },
  "language_info": {
   "codemirror_mode": {
    "name": "ipython",
    "version": 3
   },
   "file_extension": ".py",
   "mimetype": "text/x-python",
   "name": "python",
   "nbconvert_exporter": "python",
   "pygments_lexer": "ipython3",
   "version": "3.9.12"
  }
 },
 "nbformat": 4,
 "nbformat_minor": 5
}
